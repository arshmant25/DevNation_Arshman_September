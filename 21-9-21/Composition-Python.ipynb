{
 "cells": [
  {
   "cell_type": "code",
   "execution_count": 75,
   "metadata": {},
   "outputs": [],
   "source": [
    "\n",
    "class Salary:\n",
    "#Constructor\n",
    "    def __init__(self,monthly_income,currency,type1):\n",
    "        self.monthly_income=monthly_income\n",
    "        self.currency=currency\n",
    "        self.type1=type1\n",
    "        \n",
    "    def annual_salary(self):\n",
    "        return (self.monthly_income*12) \n",
    "        \n",
    "#Setter\n",
    "    def set_monthly_income(self,monthly_income):\n",
    "        self.monthly_income=monthly_income\n",
    "    def set_currency(self,currency):\n",
    "        self.currency=currency\n",
    "    def set_type1(self,type1):\n",
    "        self.type1=type1\n",
    "#Getter\n",
    "    def get_monthly_income(self):\n",
    "        return self.monthly_income\n",
    "    def get_currency(self):\n",
    "        return self.currency\n",
    "    def get_type1(self):\n",
    "        return self.type1\n",
    "    "
   ]
  },
  {
   "cell_type": "code",
   "execution_count": 76,
   "metadata": {},
   "outputs": [],
   "source": [
    "class Employee:\n",
    "#Constructor\n",
    "    def __init__(self,monthly_income,currency,type1,bonus,annual_salary):\n",
    "        self.monthly_income=monthly_income\n",
    "        self.currency=currency\n",
    "        self.type1=type1\n",
    "        self.annual_salary=annual_salary\n",
    "        self.bonus=bonus\n",
    "        self.obj_salary=Salary(monthly_income,currency,type1)\n",
    "        \n",
    "    def set_total_salary(self):\n",
    "        self.total_salary=total_salary+self.bonus\n",
    "        \n",
    "    def set_bonus(self,bonus):\n",
    "        self.bonus=bonus\n",
    "    \n",
    "    def get_bonus(self):\n",
    "        return self.bonus\n",
    "    \n",
    "    def total_salary(self):\n",
    "        return self.obj_salary.annual_salary()+self.bonus\n",
    "        \n",
    "    "
   ]
  },
  {
   "cell_type": "code",
   "execution_count": 77,
   "metadata": {},
   "outputs": [],
   "source": [
    "emp=Employee(3958.334,'Euros','cash',2500,0)\n"
   ]
  },
  {
   "cell_type": "code",
   "execution_count": 78,
   "metadata": {},
   "outputs": [
    {
     "name": "stdout",
     "output_type": "stream",
     "text": [
      "Annual Salary is 50000 including 2500 Annual Bonus\n"
     ]
    }
   ],
   "source": [
    "print('Annual Salary is',\"{:.0f}\".format(emp.total_salary()) ,'including',emp.get_bonus(),'Annual Bonus')"
   ]
  },
  {
   "cell_type": "code",
   "execution_count": 69,
   "metadata": {},
   "outputs": [
    {
     "name": "stdout",
     "output_type": "stream",
     "text": [
      "50000\n"
     ]
    }
   ],
   "source": [
    "print(\"{:.0f}\".format(emp.total_salary()))"
   ]
  },
  {
   "cell_type": "code",
   "execution_count": null,
   "metadata": {},
   "outputs": [],
   "source": []
  },
  {
   "cell_type": "code",
   "execution_count": null,
   "metadata": {},
   "outputs": [],
   "source": []
  },
  {
   "cell_type": "code",
   "execution_count": null,
   "metadata": {},
   "outputs": [],
   "source": []
  },
  {
   "cell_type": "code",
   "execution_count": null,
   "metadata": {},
   "outputs": [],
   "source": []
  },
  {
   "cell_type": "code",
   "execution_count": null,
   "metadata": {},
   "outputs": [],
   "source": []
  }
 ],
 "metadata": {
  "kernelspec": {
   "display_name": "Python 3",
   "language": "python",
   "name": "python3"
  },
  "language_info": {
   "codemirror_mode": {
    "name": "ipython",
    "version": 3
   },
   "file_extension": ".py",
   "mimetype": "text/x-python",
   "name": "python",
   "nbconvert_exporter": "python",
   "pygments_lexer": "ipython3",
   "version": "3.8.5"
  }
 },
 "nbformat": 4,
 "nbformat_minor": 4
}
