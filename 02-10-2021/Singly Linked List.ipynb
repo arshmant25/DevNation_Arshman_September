{
 "cells": [
  {
   "cell_type": "code",
   "execution_count": 76,
   "metadata": {},
   "outputs": [],
   "source": [
    "class Node:\n",
    "    def __init__(self,data):\n",
    "        self.data=data\n",
    "        self.next=None\n",
    "class Linkedlist:\n",
    "    def __init__(self):\n",
    "        self.head=None\n",
    "        \n",
    "    def in_beginning(self,data):\n",
    "        new_node=Node(data)\n",
    "        new_node.next=self.head\n",
    "        self.head=new_node\n",
    "        \n",
    "    def in_end(self,data):\n",
    "        new_node=Node(data)\n",
    "        temp1=self.head\n",
    "        \n",
    "        while(temp1.next is not None):\n",
    "            temp1=temp1.next\n",
    "        temp1.next=new_node\n",
    "        \n",
    "    def in_position(self,data,pos):\n",
    "        count=0\n",
    "        if(count>pos):\n",
    "            print('error')\n",
    "        else:\n",
    "            temp2=self.head\n",
    "            while(count<pos):\n",
    "                temp2=temp2.next\n",
    "                count += 1\n",
    "            new_node=Node(data)\n",
    "            new_node.next=temp2.next\n",
    "            temp2.next=new_node\n",
    "            \n",
    "        \n",
    "    def print(self):\n",
    "        t=self.head\n",
    "        while(t):\n",
    "            print(str(t.data)+'--->',end='')\n",
    "            t=t.next\n",
    "            \n",
    "            \n",
    "        "
   ]
  },
  {
   "cell_type": "code",
   "execution_count": 77,
   "metadata": {},
   "outputs": [],
   "source": [
    "l=Linkedlist()"
   ]
  },
  {
   "cell_type": "code",
   "execution_count": 78,
   "metadata": {},
   "outputs": [],
   "source": [
    "l.in_beginning(1)"
   ]
  },
  {
   "cell_type": "code",
   "execution_count": 79,
   "metadata": {},
   "outputs": [],
   "source": [
    "l.in_beginning(2)"
   ]
  },
  {
   "cell_type": "code",
   "execution_count": 80,
   "metadata": {},
   "outputs": [],
   "source": [
    "l.in_end(3)"
   ]
  },
  {
   "cell_type": "code",
   "execution_count": 81,
   "metadata": {},
   "outputs": [],
   "source": [
    "l.in_position(7,0)"
   ]
  },
  {
   "cell_type": "code",
   "execution_count": 82,
   "metadata": {},
   "outputs": [
    {
     "name": "stdout",
     "output_type": "stream",
     "text": [
      "2--->7--->1--->3--->"
     ]
    }
   ],
   "source": [
    "l.print()"
   ]
  },
  {
   "cell_type": "code",
   "execution_count": null,
   "metadata": {},
   "outputs": [],
   "source": []
  },
  {
   "cell_type": "code",
   "execution_count": null,
   "metadata": {},
   "outputs": [],
   "source": []
  }
 ],
 "metadata": {
  "kernelspec": {
   "display_name": "Python 3",
   "language": "python",
   "name": "python3"
  },
  "language_info": {
   "codemirror_mode": {
    "name": "ipython",
    "version": 3
   },
   "file_extension": ".py",
   "mimetype": "text/x-python",
   "name": "python",
   "nbconvert_exporter": "python",
   "pygments_lexer": "ipython3",
   "version": "3.8.5"
  }
 },
 "nbformat": 4,
 "nbformat_minor": 4
}
