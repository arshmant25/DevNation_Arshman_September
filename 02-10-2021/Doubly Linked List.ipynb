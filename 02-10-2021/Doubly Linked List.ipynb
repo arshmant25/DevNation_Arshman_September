{
 "cells": [
  {
   "cell_type": "code",
   "execution_count": 32,
   "metadata": {},
   "outputs": [],
   "source": [
    "class Node:\n",
    "    def __init__(self,data):\n",
    "        self.data=data\n",
    "        self.next=None\n",
    "        self.prev=None\n",
    "class Linkedlist:\n",
    "    def __init__(self):\n",
    "        self.head=None\n",
    "        \n",
    "    def in_beginning(self,data):\n",
    "        new_node=Node(data)\n",
    "        \n",
    "        if self.head is not None:\n",
    "            self.head.prev=new_node\n",
    "        \n",
    "        new_node.next=self.head\n",
    "        self.head=new_node\n",
    "        \n",
    "    def in_end(self,data):\n",
    "        new_node=Node(data)\n",
    "        temp1=self.head\n",
    "        \n",
    "        while(temp1.next is not None):\n",
    "            temp1=temp1.next\n",
    "        temp1.next=new_node\n",
    "        new_node.prev=temp1\n",
    "       \n",
    "    def in_position(self,data,pos):\n",
    "        new_node=Node(data)\n",
    "        count=0\n",
    "        if(count>pos):\n",
    "            print('error')\n",
    "        else:\n",
    "            temp2=self.head\n",
    "            while(count<pos):\n",
    "                temp2=temp2.next\n",
    "                count += 1\n",
    "            new_node.next=temp2.next\n",
    "            temp2.next=new_node\n",
    "            new_node.prev=temp2\n",
    "        \n",
    "    def print(self):\n",
    "        tem=self.head\n",
    "        while(tem):\n",
    "            print(str(tem.data)+'--->',end='')\n",
    "            tem=tem.next\n",
    "            \n",
    "    "
   ]
  },
  {
   "cell_type": "code",
   "execution_count": 33,
   "metadata": {},
   "outputs": [],
   "source": [
    "ll=Linkedlist()"
   ]
  },
  {
   "cell_type": "code",
   "execution_count": 34,
   "metadata": {},
   "outputs": [],
   "source": [
    "ll.in_beginning(1)"
   ]
  },
  {
   "cell_type": "code",
   "execution_count": 35,
   "metadata": {},
   "outputs": [],
   "source": [
    "ll.in_beginning(2)"
   ]
  },
  {
   "cell_type": "code",
   "execution_count": 36,
   "metadata": {},
   "outputs": [],
   "source": [
    "ll.in_beginning(3)"
   ]
  },
  {
   "cell_type": "code",
   "execution_count": 37,
   "metadata": {},
   "outputs": [],
   "source": [
    "ll.in_end(4)"
   ]
  },
  {
   "cell_type": "code",
   "execution_count": 38,
   "metadata": {},
   "outputs": [],
   "source": [
    "ll.in_position(5,0)"
   ]
  },
  {
   "cell_type": "code",
   "execution_count": 39,
   "metadata": {},
   "outputs": [
    {
     "name": "stdout",
     "output_type": "stream",
     "text": [
      "3--->5--->2--->1--->4--->"
     ]
    }
   ],
   "source": [
    "ll.print()"
   ]
  },
  {
   "cell_type": "code",
   "execution_count": null,
   "metadata": {},
   "outputs": [],
   "source": []
  },
  {
   "cell_type": "code",
   "execution_count": null,
   "metadata": {},
   "outputs": [],
   "source": []
  }
 ],
 "metadata": {
  "kernelspec": {
   "display_name": "Python 3",
   "language": "python",
   "name": "python3"
  },
  "language_info": {
   "codemirror_mode": {
    "name": "ipython",
    "version": 3
   },
   "file_extension": ".py",
   "mimetype": "text/x-python",
   "name": "python",
   "nbconvert_exporter": "python",
   "pygments_lexer": "ipython3",
   "version": "3.8.5"
  }
 },
 "nbformat": 4,
 "nbformat_minor": 4
}
