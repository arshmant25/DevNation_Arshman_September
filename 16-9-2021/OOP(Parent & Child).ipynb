{
 "cells": [
  {
   "cell_type": "code",
   "execution_count": 115,
   "metadata": {},
   "outputs": [],
   "source": [
    "#Parent Class\n",
    "class Student:\n",
    "#Constructor\n",
    "    def __init__(self,Name,Batch_No,Address):\n",
    "        self.Name=Name\n",
    "        self.Batch_No=Batch_No\n",
    "        self.Address=Address\n",
    "        \n",
    "#Setter\n",
    "    def set_Name(self,Name):\n",
    "        self.Name=Name\n",
    "    def set_Batch_No(self,Batch_No):\n",
    "        self.Batch_No=Batch_No\n",
    "    def set_Address(self,Address):\n",
    "        self.Address=Address\n",
    "#Getter\n",
    "    def get_Name(self):\n",
    "        return self.Name\n",
    "    def get_Batch_No(self):\n",
    "        return self.Batch_No\n",
    "    def get_Address(self):\n",
    "        return self.Address\n",
    "    "
   ]
  },
  {
   "cell_type": "code",
   "execution_count": 116,
   "metadata": {},
   "outputs": [],
   "source": [
    "#Child Class\n",
    "class DevnationStudents(Student):\n",
    "    def __init__(self,Name,Batch_No,Address,courses=[],marks=[]):\n",
    "        super().__init__(Name,Batch_No,Address)\n",
    "        self.courses=courses\n",
    "        self.marks=marks\n",
    "#setter\n",
    "    def set_courses(self,courses):\n",
    "        for i in courses:\n",
    "            if i not in self.courses:\n",
    "                self.courses.append(i)\n",
    "    \n",
    "    \n",
    "    def set_marks(self,dicti):\n",
    "        for i in dicti:\n",
    "            print(i)\n",
    "            if i['course'] not in self.courses:\n",
    "                self.marks.append(i)\n",
    "            #print(i['course'])\n",
    "                \n",
    "#getter\n",
    "    def get_courses(self):\n",
    "        return self.courses\n",
    "    def get_marks(self):\n",
    "        return self.marks"
   ]
  },
  {
   "cell_type": "code",
   "execution_count": 117,
   "metadata": {},
   "outputs": [],
   "source": [
    "obj=DevnationStudents('arsh',1,'lhr',['datascience','Fullstack'],[])"
   ]
  },
  {
   "cell_type": "code",
   "execution_count": 118,
   "metadata": {},
   "outputs": [],
   "source": [
    "obj.set_courses(['Fullstack','C++'])\n"
   ]
  },
  {
   "cell_type": "code",
   "execution_count": 119,
   "metadata": {},
   "outputs": [
    {
     "data": {
      "text/plain": [
       "['datascience', 'Fullstack', 'C++']"
      ]
     },
     "execution_count": 119,
     "metadata": {},
     "output_type": "execute_result"
    }
   ],
   "source": [
    "obj.get_courses()"
   ]
  },
  {
   "cell_type": "code",
   "execution_count": 120,
   "metadata": {},
   "outputs": [
    {
     "name": "stdout",
     "output_type": "stream",
     "text": [
      "{'course': 'datascience', 'marks': 30}\n",
      "{'course': 'Fullstack ', 'marks': 30}\n"
     ]
    }
   ],
   "source": [
    "obj.set_marks([{'course': 'datascience','marks':30},{'course':'Fullstack ','marks':30}])"
   ]
  },
  {
   "cell_type": "code",
   "execution_count": 121,
   "metadata": {},
   "outputs": [
    {
     "data": {
      "text/plain": [
       "[{'course': 'Fullstack ', 'marks': 30}]"
      ]
     },
     "execution_count": 121,
     "metadata": {},
     "output_type": "execute_result"
    }
   ],
   "source": [
    "obj.get_marks()"
   ]
  },
  {
   "cell_type": "code",
   "execution_count": null,
   "metadata": {},
   "outputs": [],
   "source": []
  },
  {
   "cell_type": "code",
   "execution_count": null,
   "metadata": {},
   "outputs": [],
   "source": []
  }
 ],
 "metadata": {
  "kernelspec": {
   "display_name": "Python 3",
   "language": "python",
   "name": "python3"
  },
  "language_info": {
   "codemirror_mode": {
    "name": "ipython",
    "version": 3
   },
   "file_extension": ".py",
   "mimetype": "text/x-python",
   "name": "python",
   "nbconvert_exporter": "python",
   "pygments_lexer": "ipython3",
   "version": "3.8.5"
  }
 },
 "nbformat": 4,
 "nbformat_minor": 4
}
