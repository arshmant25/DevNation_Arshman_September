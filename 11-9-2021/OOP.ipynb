{
 "cells": [
  {
   "cell_type": "code",
   "execution_count": 74,
   "metadata": {},
   "outputs": [],
   "source": [
    "class Student:\n",
    "    def __init__(self,Name,Batch_No,Address,Courses=[],Courses_score=[]):\n",
    "        self.Name=Name\n",
    "        self.Batch_No=Batch_No\n",
    "        self.Address=Address\n",
    "        self.Courses=Courses\n",
    "        self.Courses_score=Courses_score\n",
    "#Setter\n",
    "    def set_Name(self,Name):\n",
    "        self.Name=Name\n",
    "    def set_Batch_No(self,Batch_No):\n",
    "        self.Batch_No=Batch_No\n",
    "    def set_Address(self,Address):\n",
    "        self.Address=Address\n",
    "    def set_Courses(self,Courses):\n",
    "        self.Courses=Courses\n",
    "        \n",
    "    def set_Courses_score(self,Courses_score):\n",
    "        #self.Courses_score=Courses_score\n",
    "        for i in Courses_score:\n",
    "            print(i)\n",
    "            if i['course'] in self.Courses:\n",
    "                self.Courses_score.append(i)\n",
    "            #print(i['course'])\n",
    "        \n",
    "#Getter\n",
    "    def get_Name(self):\n",
    "        return self.Name\n",
    "    def get_Batch_No(self):\n",
    "        return self.Batch_No\n",
    "    def get_Address(self):\n",
    "        return self.Address\n",
    "    def get_Courses(self):\n",
    "        return self.Courses\n",
    "    def get_Courses_score(self):\n",
    "        return self.Courses_score\n",
    "        \n",
    "    \n",
    "    \n",
    "        \n",
    "        \n",
    "        "
   ]
  },
  {
   "cell_type": "code",
   "execution_count": 79,
   "metadata": {},
   "outputs": [],
   "source": [
    "Stud1=Student('Arsh',1,'LHR')"
   ]
  },
  {
   "cell_type": "code",
   "execution_count": 80,
   "metadata": {},
   "outputs": [
    {
     "data": {
      "text/plain": [
       "['datascience']"
      ]
     },
     "execution_count": 80,
     "metadata": {},
     "output_type": "execute_result"
    }
   ],
   "source": [
    "Stud1.set_Courses(['datascience'])\n",
    "Stud1.get_Courses()"
   ]
  },
  {
   "cell_type": "code",
   "execution_count": null,
   "metadata": {},
   "outputs": [],
   "source": []
  },
  {
   "cell_type": "code",
   "execution_count": 81,
   "metadata": {},
   "outputs": [
    {
     "name": "stdout",
     "output_type": "stream",
     "text": [
      "{'course': 'datascience', 'marks': 30}\n",
      "{'course': 'python', 'marks': 30}\n"
     ]
    }
   ],
   "source": [
    "Stud1.set_Courses_score([{'course': 'datascience','marks':30},{'course':'python','marks':30}])\n"
   ]
  },
  {
   "cell_type": "code",
   "execution_count": 82,
   "metadata": {},
   "outputs": [
    {
     "data": {
      "text/plain": [
       "[{'course': 'datascience', 'marks': 30}]"
      ]
     },
     "execution_count": 82,
     "metadata": {},
     "output_type": "execute_result"
    }
   ],
   "source": [
    "Stud1.get_Courses_score()"
   ]
  },
  {
   "cell_type": "code",
   "execution_count": 26,
   "metadata": {},
   "outputs": [
    {
     "data": {
      "text/plain": [
       "'DevN'"
      ]
     },
     "execution_count": 26,
     "metadata": {},
     "output_type": "execute_result"
    }
   ],
   "source": [
    "Stud1.set_Name('DevN')\n",
    "Stud1.get_Name()"
   ]
  },
  {
   "cell_type": "code",
   "execution_count": 28,
   "metadata": {},
   "outputs": [
    {
     "data": {
      "text/plain": [
       "2"
      ]
     },
     "execution_count": 28,
     "metadata": {},
     "output_type": "execute_result"
    }
   ],
   "source": [
    "Stud1.set_Batch_No(2)\n",
    "Stud1.get_Batch_No()"
   ]
  },
  {
   "cell_type": "code",
   "execution_count": 29,
   "metadata": {},
   "outputs": [
    {
     "data": {
      "text/plain": [
       "'ISB'"
      ]
     },
     "execution_count": 29,
     "metadata": {},
     "output_type": "execute_result"
    }
   ],
   "source": [
    "Stud1.set_Address('ISB')\n",
    "Stud1.get_Address()"
   ]
  },
  {
   "cell_type": "code",
   "execution_count": 31,
   "metadata": {},
   "outputs": [
    {
     "data": {
      "text/plain": [
       "['WEB', 'DS']"
      ]
     },
     "execution_count": 31,
     "metadata": {},
     "output_type": "execute_result"
    }
   ],
   "source": [
    "Stud1.set_Courses(['WEB','DS'])\n",
    "Stud1.get_Courses()"
   ]
  },
  {
   "cell_type": "code",
   "execution_count": null,
   "metadata": {},
   "outputs": [],
   "source": [
    "   "
   ]
  },
  {
   "cell_type": "code",
   "execution_count": null,
   "metadata": {},
   "outputs": [],
   "source": []
  },
  {
   "cell_type": "code",
   "execution_count": null,
   "metadata": {},
   "outputs": [],
   "source": [
    "\n"
   ]
  },
  {
   "cell_type": "code",
   "execution_count": null,
   "metadata": {},
   "outputs": [],
   "source": []
  }
 ],
 "metadata": {
  "kernelspec": {
   "display_name": "Python 3",
   "language": "python",
   "name": "python3"
  },
  "language_info": {
   "codemirror_mode": {
    "name": "ipython",
    "version": 3
   },
   "file_extension": ".py",
   "mimetype": "text/x-python",
   "name": "python",
   "nbconvert_exporter": "python",
   "pygments_lexer": "ipython3",
   "version": "3.8.5"
  }
 },
 "nbformat": 4,
 "nbformat_minor": 4
}
